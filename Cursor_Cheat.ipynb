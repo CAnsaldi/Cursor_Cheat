{
 "cells": [
  {
   "cell_type": "code",
   "execution_count": 5,
   "metadata": {},
   "outputs": [],
   "source": [
    "import win32api\n",
    "import win32gui\n",
    "import random\n",
    "import keyboard\n",
    "import time, pyautogui\n",
    "import PySimpleGUI as PySimpleGUI\n",
    "from threading import Thread, Event\n",
    "\n",
    "def reset_cursor_position(x_max,y_max):\n",
    "    x = random.randint(1,x_max)\n",
    "    y = random.randint(1,y_max)\n",
    "    win32api.SetCursorPos((x,y))\n",
    "    flags, hcursor, (x,y) = win32gui.GetCursorInfo()\n",
    "\n",
    "def get_range():\n",
    "    win32api.SetCursorPos((1000000000,1000000000))\n",
    "    flags, hcursor, (x,y) = win32gui.GetCursorInfo()\n",
    "    return (x,y)\n",
    "\n",
    "def key_press(press_key_1, press_key_2, x_max, y_max):\n",
    "    try:\n",
    "        #pyautogui.hold(press_key_1)\n",
    "        pyautogui.press(press_key_1)\n",
    "    except:\n",
    "        reset_cursor_position(x_max,y_max)\n",
    "    finally:\n",
    "        time.sleep(3)\n",
    "\n",
    "def exit_checker(exit_key, quit):\n",
    "    while not (quit):\n",
    "        quit = keyboard.is_pressed(exit_key)   \n",
    "    event.set()\n",
    "\n",
    "event = Event()\n",
    "(x_max, y_max) = get_range()\n",
    "x_max = x_max - 1\n",
    "y_max = y_max - 1\n",
    "quit = False\n",
    "\n",
    "# Possible Keys: https://pyautogui.readthedocs.io/en/latest/keyboard.html#the-press-keydown-and-keyup-functions, print(pyautogui.KEYBOARD_KEYS)\n",
    "#f2 and numlock are good keys in most cases to not interfere other activities\n",
    "press_key_1 = 'numlock'\n",
    "press_key_2 = 'numlock'\n",
    "exit_key = 'f2'"
   ]
  },
  {
   "cell_type": "code",
   "execution_count": 7,
   "metadata": {},
   "outputs": [
    {
     "name": "stdout",
     "output_type": "stream",
     "text": [
      "Press 'f2' to quit\n"
     ]
    }
   ],
   "source": [
    "print(\"Press '%s' to quit\" % exit_key)\n",
    "\n",
    "exit_thread = Thread(target=exit_checker, args=(exit_key, quit))\n",
    "exit_thread.start()\n",
    "\n",
    "while not (event.is_set()):\n",
    "    key_press(press_key_1, press_key_2, x_max, y_max)\n",
    "\n",
    "exit_thread.join()"
   ]
  }
 ],
 "metadata": {
  "interpreter": {
   "hash": "63fd5069d213b44bf678585dea6b12cceca9941eaf7f819626cde1f2670de90d"
  },
  "kernelspec": {
   "display_name": "Python 3.9.7 64-bit",
   "language": "python",
   "name": "python3"
  },
  "language_info": {
   "codemirror_mode": {
    "name": "ipython",
    "version": 3
   },
   "file_extension": ".py",
   "mimetype": "text/x-python",
   "name": "python",
   "nbconvert_exporter": "python",
   "pygments_lexer": "ipython3",
   "version": "3.9.7"
  },
  "orig_nbformat": 4
 },
 "nbformat": 4,
 "nbformat_minor": 2
}
