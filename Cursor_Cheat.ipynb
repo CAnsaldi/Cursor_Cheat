{
 "cells": [
  {
   "cell_type": "code",
   "execution_count": 17,
   "metadata": {},
   "outputs": [],
   "source": [
    "import keyboard\n",
    "import time, pyautogui\n",
    "from threading import Thread, Event\n",
    "\n",
    "def key_press(press_key, sleep_time):\n",
    "    while not (e.is_set()):\n",
    "        try:\n",
    "            pyautogui.press(press_key)\n",
    "        except:\n",
    "            print('Cursor in angle position')\n",
    "        finally:\n",
    "            time.sleep(sleep_time)\n",
    "\n",
    "def exit_checker(exit_key):\n",
    "    while not (keyboard.is_pressed(exit_key)):\n",
    "        continue\n",
    "    e.set()\n",
    "\n",
    "e = Event()\n",
    "quit = False\n",
    "\n",
    "\n",
    "###############################################################################################################################################\n",
    "#User Parameters - Change as needed\n",
    "###############################################################################################################################################\n",
    "\n",
    "# Possible Keys: https://pyautogui.readthedocs.io/en/latest/keyboard.html#the-press-keydown-and-keyup-functions, print(pyautogui.KEYBOARD_KEYS)\n",
    "# f2 and numlock are good keys in most cases to not interfere other activities\n",
    "press_key = 'numlock'\n",
    "exit_key = 'f2'\n",
    "# Sleep time until next key hit. This also influences, how long it needs to recognize the exit key (so keep it small)!\n",
    "sleep_time = 0.1"
   ]
  },
  {
   "cell_type": "code",
   "execution_count": 18,
   "metadata": {},
   "outputs": [
    {
     "name": "stdout",
     "output_type": "stream",
     "text": [
      "Press 'f2' to quit\n"
     ]
    }
   ],
   "source": [
    "print(\"Press '%s' to quit\" % exit_key)\n",
    "\n",
    "exit_thread = Thread(target=exit_checker, args=(exit_key,))\n",
    "exit_thread.start()\n",
    "\n",
    "key_press(press_key, sleep_time)\n",
    "\n",
    "exit_thread.join()\n",
    "print('Session abord')"
   ]
  }
 ],
 "metadata": {
  "interpreter": {
   "hash": "63fd5069d213b44bf678585dea6b12cceca9941eaf7f819626cde1f2670de90d"
  },
  "kernelspec": {
   "display_name": "Python 3.9.7 64-bit",
   "language": "python",
   "name": "python3"
  },
  "language_info": {
   "codemirror_mode": {
    "name": "ipython",
    "version": 3
   },
   "file_extension": ".py",
   "mimetype": "text/x-python",
   "name": "python",
   "nbconvert_exporter": "python",
   "pygments_lexer": "ipython3",
   "version": "3.9.7"
  },
  "orig_nbformat": 4
 },
 "nbformat": 4,
 "nbformat_minor": 2
}
