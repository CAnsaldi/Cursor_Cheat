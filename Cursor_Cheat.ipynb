{
 "cells": [
  {
   "cell_type": "code",
   "execution_count": 27,
   "metadata": {},
   "outputs": [],
   "source": [
    "import win32api\n",
    "import win32gui\n",
    "import random\n",
    "import keyboard\n",
    "import time, pyautogui\n",
    "import PySimpleGUI as PySimpleGUI\n",
    "import multiprocessing\n",
    "\n",
    "def reset_cursor_position(x_max,y_max):\n",
    "    x = random.randint(0,x_max)\n",
    "    y = random.randint(0,y_max)\n",
    "    win32api.SetCursorPos((x,y))\n",
    "    flags, hcursor, (x,y) = win32gui.GetCursorInfo()\n",
    "    return x,y\n",
    "\n",
    "def get_range():\n",
    "    win32api.SetCursorPos((1000000000,1000000000))\n",
    "    flags, hcursor, (x,y) = win32gui.GetCursorInfo()\n",
    "    return (x,y)\n",
    "\n",
    "x = 0\n",
    "y = 0\n",
    "(x_max, y_max) = get_range()\n",
    "# Possible Keys: https://pyautogui.readthedocs.io/en/latest/keyboard.html#the-press-keydown-and-keyup-functions\n",
    "press_key_1 = 'f2'\n",
    "press_key_2 = 'f2'\n",
    "exit_key = 'q'"
   ]
  },
  {
   "cell_type": "code",
   "execution_count": 28,
   "metadata": {},
   "outputs": [
    {
     "name": "stdout",
     "output_type": "stream",
     "text": [
      "Press 'q' to quit\n"
     ]
    }
   ],
   "source": [
    "print(\"Press '%s' to quit\" % exit_key)\n",
    "quit = False\n",
    "while not (quit):\n",
    "    try:\n",
    "        pyautogui.press(press_key_1)\n",
    "        pyautogui.press(press_key_2)\n",
    "    except:\n",
    "        (x,y) = reset_cursor_position(x_max,y_max)\n",
    "    \n",
    "    quit = keyboard.is_pressed(exit_key)"
   ]
  }
 ],
 "metadata": {
  "interpreter": {
   "hash": "63fd5069d213b44bf678585dea6b12cceca9941eaf7f819626cde1f2670de90d"
  },
  "kernelspec": {
   "display_name": "Python 3.9.7 64-bit",
   "language": "python",
   "name": "python3"
  },
  "language_info": {
   "codemirror_mode": {
    "name": "ipython",
    "version": 3
   },
   "file_extension": ".py",
   "mimetype": "text/x-python",
   "name": "python",
   "nbconvert_exporter": "python",
   "pygments_lexer": "ipython3",
   "version": "3.9.7"
  },
  "orig_nbformat": 4
 },
 "nbformat": 4,
 "nbformat_minor": 2
}
