{
 "cells": [
  {
   "cell_type": "code",
   "execution_count": 6,
   "metadata": {},
   "outputs": [],
   "source": [
    "import keyboard\n",
    "import time, pyautogui\n",
    "from threading import Thread, Event\n",
    "\n",
    "def key_press(press_key, sleep_time, event):\n",
    "    while not (event.is_set()):\n",
    "        try:\n",
    "            pyautogui.press(press_key)\n",
    "        except:\n",
    "            print('Cursor in angle position')\n",
    "        finally:\n",
    "            time.sleep(sleep_time)\n",
    "\n",
    "def exit_checker(exit_key, quit):\n",
    "    while not (quit):\n",
    "        quit = keyboard.is_pressed(exit_key)\n",
    "    event.set()\n",
    "\n",
    "event = Event()\n",
    "quit = False\n",
    "\n",
    "###############################################################################################################################################\n",
    "#User Parameters - Change as needed\n",
    "###############################################################################################################################################\n",
    "# Possible Keys: https://pyautogui.readthedocs.io/en/latest/keyboard.html#the-press-keydown-and-keyup-functions, print(pyautogui.KEYBOARD_KEYS)\n",
    "# f2 and numlock are good keys in most cases to not interfere other activities\n",
    "press_key = 'numlock'\n",
    "exit_key = 'f2'\n",
    "# Sleep time until next key hit\n",
    "sleep_time = 10\n"
   ]
  },
  {
   "cell_type": "code",
   "execution_count": 12,
   "metadata": {},
   "outputs": [
    {
     "name": "stdout",
     "output_type": "stream",
     "text": [
      "Press 'f2' to quit\n",
      "Session abord\n"
     ]
    }
   ],
   "source": [
    "print(\"Press '%s' to quit\" % exit_key)\n",
    "\n",
    "exit_thread = Thread(target=exit_checker, args=(exit_key, quit))\n",
    "exit_thread.start()\n",
    "\n",
    "key_press(press_key, sleep_time, event)\n",
    "\n",
    "exit_thread.join()\n",
    "\n",
    "print('Session abord')"
   ]
  }
 ],
 "metadata": {
  "interpreter": {
   "hash": "63fd5069d213b44bf678585dea6b12cceca9941eaf7f819626cde1f2670de90d"
  },
  "kernelspec": {
   "display_name": "Python 3.9.7 64-bit",
   "language": "python",
   "name": "python3"
  },
  "language_info": {
   "codemirror_mode": {
    "name": "ipython",
    "version": 3
   },
   "file_extension": ".py",
   "mimetype": "text/x-python",
   "name": "python",
   "nbconvert_exporter": "python",
   "pygments_lexer": "ipython3",
   "version": "3.9.7"
  },
  "orig_nbformat": 4
 },
 "nbformat": 4,
 "nbformat_minor": 2
}
