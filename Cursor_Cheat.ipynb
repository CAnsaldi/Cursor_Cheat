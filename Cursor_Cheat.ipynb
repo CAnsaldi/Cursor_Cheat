{
 "cells": [
  {
   "cell_type": "code",
   "execution_count": 9,
   "metadata": {},
   "outputs": [],
   "source": [
    "import win32api\n",
    "import win32gui\n",
    "import random\n",
    "import keyboard\n",
    "import time, pyautogui\n",
    "import PySimpleGUI as PySimpleGUI\n",
    "import multiprocessing\n",
    "\n",
    "#Doesn't prevent screensaver\n",
    "#def reset_cursor_position(x_max,y_max):\n",
    "    #x = random.randint(0,x_max)\n",
    "    #y = random.randint(0,y_max)\n",
    "    #win32api.SetCursorPos((x,y))\n",
    "    #flags, hcursor, (x,y) = win32gui.GetCursorInfo()\n",
    "    #return x,y\n",
    "\n",
    "#def get_range():\n",
    "    #win32api.SetCursorPos((1000000000,1000000000))\n",
    "    #flags, hcursor, (x,y) = win32gui.GetCursorInfo()\n",
    "    #return (x,y)\n",
    "\n",
    "x = 0\n",
    "y = 0\n",
    "#(x_max, y_max) = get_range()\n",
    "exit_key = 'q'"
   ]
  },
  {
   "cell_type": "code",
   "execution_count": 10,
   "metadata": {},
   "outputs": [
    {
     "name": "stdout",
     "output_type": "stream",
     "text": [
      "Press 'q' to quit\n"
     ]
    }
   ],
   "source": [
    "print(\"Press '%s' to quit\" % exit_key)\n",
    "quit = False\n",
    "while not (quit):\n",
    "    #Doesn't prevent screensaver\n",
    "    #(x,y) = reset_cursor_position(x_max,y_max)\n",
    "    pyautogui.press('volumedown')\n",
    "    pyautogui.press('volumeup')\n",
    "    quit = keyboard.is_pressed(exit_key)"
   ]
  },
  {
   "cell_type": "code",
   "execution_count": 5,
   "metadata": {},
   "outputs": [],
   "source": [
    "#Deprecated\n",
    "def KeepUI():\n",
    "    sg.theme('Dark')\n",
    "    layout = [\n",
    "        [sg.Text('Keep-Me-Up is now running.\\nYou can keep it minised, and it will continue running.\\nClose it to disable it.')]\n",
    "    ]\n",
    "    window = sg.Window('Keep-Me-Up', layout)\n",
    "    \n",
    "    p2 = multiprocessing.Process(target = dontsleep)\n",
    "    p2.start()\n",
    "    \n",
    "    while True:\n",
    "        event, values = window.read()\n",
    "        if event == sg.WIN_CLOSED: # if user closes window or clicks cancel\n",
    "            if p2.is_alive(): \n",
    "                p2.terminate()\n",
    "            break\n",
    "\n",
    "def dontsleep():\n",
    "    while True:\n",
    "        pyautogui.press('volumedown')\n",
    "        time.sleep(1)\n",
    "        pyautogui.press('volumeup')\n",
    "        time.sleep(300)"
   ]
  },
  {
   "cell_type": "code",
   "execution_count": 7,
   "metadata": {},
   "outputs": [],
   "source": [
    "#Deprecated\n",
    "#p1 = multiprocessing.Process(target = KeepUI)\n",
    "#p1.start()"
   ]
  }
 ],
 "metadata": {
  "interpreter": {
   "hash": "63fd5069d213b44bf678585dea6b12cceca9941eaf7f819626cde1f2670de90d"
  },
  "kernelspec": {
   "display_name": "Python 3.9.7 64-bit",
   "language": "python",
   "name": "python3"
  },
  "language_info": {
   "codemirror_mode": {
    "name": "ipython",
    "version": 3
   },
   "file_extension": ".py",
   "mimetype": "text/x-python",
   "name": "python",
   "nbconvert_exporter": "python",
   "pygments_lexer": "ipython3",
   "version": "3.9.7"
  },
  "orig_nbformat": 4
 },
 "nbformat": 4,
 "nbformat_minor": 2
}
